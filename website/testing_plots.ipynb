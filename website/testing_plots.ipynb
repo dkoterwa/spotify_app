{
 "cells": [
  {
   "cell_type": "code",
   "execution_count": 1,
   "metadata": {},
   "outputs": [],
   "source": [
    "import pandas as pd\n",
    "import numpy as np\n",
    "import json\n",
    "from pandas.io.json import json_normalize\n",
    "import plotly.express as px\n",
    "import plotly.io as pio\n",
    "from scipy import stats\n",
    "pio.renderers.default = \"vscode\"\n",
    "pio.renderers\n",
    "from plotly.graph_objs import *\n",
    "from song_characteristics import *\n",
    "from plots import *\n",
    "from spot_secrets import *\n",
    "import requests\n",
    "import urllib.request"
   ]
  },
  {
   "cell_type": "code",
   "execution_count": 44,
   "metadata": {},
   "outputs": [],
   "source": [
    "user_id = \"fd3d877b-6d54-4cba-a037-ed9ab548f8af\""
   ]
  },
  {
   "cell_type": "code",
   "execution_count": 53,
   "metadata": {},
   "outputs": [],
   "source": [
    "conn, cursor = db_connect(\"spotify_db.db\")\n",
    "sp = connect_to_sp(cid, secret)\n",
    "dataframe = download_data(user_id, cursor)"
   ]
  },
  {
   "cell_type": "code",
   "execution_count": null,
   "metadata": {},
   "outputs": [],
   "source": [
    "counts = dataframe.groupby(\"song_name\")[\"song_name\"].size().reset_index(name=\"count\")"
   ]
  },
  {
   "cell_type": "code",
   "execution_count": null,
   "metadata": {},
   "outputs": [],
   "source": [
    "dataframe[\"sec_played\"] = dataframe[\"ms_played\"]/1000"
   ]
  },
  {
   "cell_type": "code",
   "execution_count": null,
   "metadata": {},
   "outputs": [],
   "source": [
    "dataframe = dataframe.drop([\"ms_played\"], axis=1)\n",
    "dataframe = dataframe.groupby(\"song_name\")[\"song_name\"].size().reset_index(name=\"count\")\n",
    "dataframe = dataframe.groupby('count').size().reset_index(name='number_of_songs')\n",
    "plot_df = dataframe.copy()\n",
    "fig = px.scatter(x=plot_df[\"number_of_songs\"], y=plot_df[\"count\"], labels={\"x\":\"Number of songs\", \"y\":\"Number of plays\"}, color_discrete_sequence=['#1DB954'])\n",
    "fig.update_layout(\n",
    "    paper_bgcolor=\"rgba(0,0,0,0)\",\n",
    "    plot_bgcolor=\"rgba(0,0,0,0)\",\n",
    "    title_font_color=\"white\",\n",
    "    title = {\n",
    "        \"text\":\"Do you attach to songs?\",\n",
    "        \"x\": 0.5,\n",
    "        \"xanchor\":\"center\",\n",
    "        \"yanchor\": \"top\"\n",
    "    }\n",
    ")\n",
    "fig.update_xaxes(color=\"white\")\n",
    "fig.update_yaxes(color=\"white\")"
   ]
  },
  {
   "cell_type": "code",
   "execution_count": null,
   "metadata": {},
   "outputs": [],
   "source": [
    "dataframe = download_data(user_id, cursor)"
   ]
  },
  {
   "cell_type": "code",
   "execution_count": null,
   "metadata": {},
   "outputs": [],
   "source": [
    "total_listening_time, favorite_artists, favorite_songs, distinct_artists, distinct_songs, favorite_artists_minutes, favorite_artist_fraction, favorite_songs_of_fav_artist, number_of_songs_by_fav_artist, favorite_morning, favorite_evening = get_general_statistics(dataframe)"
   ]
  },
  {
   "cell_type": "code",
   "execution_count": null,
   "metadata": {},
   "outputs": [],
   "source": [
    "favorite_songs_of_fav_artist"
   ]
  },
  {
   "cell_type": "code",
   "execution_count": null,
   "metadata": {},
   "outputs": [],
   "source": [
    "favorite_artists"
   ]
  },
  {
   "cell_type": "code",
   "execution_count": null,
   "metadata": {},
   "outputs": [],
   "source": [
    "dataframe[\"min_played\"] = dataframe[\"ms_played\"]/60000"
   ]
  },
  {
   "cell_type": "code",
   "execution_count": null,
   "metadata": {},
   "outputs": [],
   "source": [
    "total_listening_time = dataframe[\"min_played\"].sum() # Total listening time\n",
    "favorite_artists = dataframe.groupby(\"artist_name\")[\"artist_name\"].size().reset_index(name=\"count\").sort_values(\"count\", ascending=False) # Favorite artists\n",
    "favorite_songs = dataframe.groupby([\"artist_name\", \"song_name\"]).size().reset_index(name=\"count\").sort_values(\"count\", ascending=False) # Favorite songs\n",
    "distinct_artists = len(dataframe.drop_duplicates(\"artist_name\")) # Distinct artists\n",
    "distinct_songs = len(dataframe.drop_duplicates(\"song_name\")) # Distinct songs\n"
   ]
  },
  {
   "cell_type": "code",
   "execution_count": null,
   "metadata": {},
   "outputs": [],
   "source": [
    "# Stats for favorite artist\n",
    "favorite_artists_minutes = dataframe.groupby(\"artist_name\")[\"min_played\"].sum().astype(int).reset_index(name=\"sum_of_minutes\").sort_values(\"sum_of_minutes\", ascending=False) # Minutes of favorite artists\n",
    "favorite_artist_fraction = favorite_artists_minutes[\"sum_of_minutes\"].iloc[0] / favorite_artists_minutes[\"sum_of_minutes\"][1:].sum() # Percentage of minutes occupied by favorite artist\n",
    "favorite_songs_of_fav_artist = favorite_songs[favorite_songs[\"artist_name\"] == favorite_artists[\"artist_name\"].iloc[0]] # Favorite songs of favorite artist\n",
    "number_of_songs_by_fav_artist = len(favorite_songs_of_fav_artist) # Number of distinct songs of favorite artist listened"
   ]
  },
  {
   "cell_type": "code",
   "execution_count": null,
   "metadata": {},
   "outputs": [],
   "source": [
    "dataframe[\"hour\"] = pd.to_datetime(dataframe[\"end_time\"]).dt.hour\n",
    "dataframe_evening = dataframe[(dataframe[\"hour\"].astype(int) > 19) | (dataframe[\"hour\"].astype(int) < 5)]\n",
    "dataframe_morning = dataframe[(dataframe[\"hour\"].astype(int) > 5) & (dataframe[\"hour\"].astype(int) < 10)]"
   ]
  },
  {
   "cell_type": "code",
   "execution_count": null,
   "metadata": {},
   "outputs": [],
   "source": [
    "favorite_evening = dataframe_evening.groupby([\"artist_name\", \"song_name\"]).size().reset_index(name=\"count\").sort_values(\"count\", ascending=False) # Favorite morning songs\n",
    "favorite_morning = dataframe_morning.groupby([\"artist_name\", \"song_name\"]).size().reset_index(name=\"count\").sort_values(\"count\", ascending=False) # Favorite evening songs"
   ]
  },
  {
   "cell_type": "code",
   "execution_count": null,
   "metadata": {},
   "outputs": [],
   "source": [
    "favorite_morning.head()"
   ]
  },
  {
   "cell_type": "code",
   "execution_count": null,
   "metadata": {},
   "outputs": [],
   "source": [
    "dataframe['date'] = pd.to_datetime(dataframe['end_time'])"
   ]
  },
  {
   "cell_type": "code",
   "execution_count": null,
   "metadata": {},
   "outputs": [],
   "source": [
    "dataframe['date'] = pd.to_datetime(dataframe['date'].dt.date)"
   ]
  },
  {
   "cell_type": "code",
   "execution_count": null,
   "metadata": {},
   "outputs": [],
   "source": [
    "dataframe['hour'] = pd.to_datetime(dataframe['end_time']).dt.hour"
   ]
  },
  {
   "cell_type": "code",
   "execution_count": null,
   "metadata": {},
   "outputs": [],
   "source": [
    "dataframe['week'] = pd.to_datetime(dataframe['end_time']).dt.week"
   ]
  },
  {
   "cell_type": "code",
   "execution_count": null,
   "metadata": {},
   "outputs": [],
   "source": [
    "df_grouped = dataframe.groupby(['week', 'hour']).size().reset_index(name='count')"
   ]
  },
  {
   "cell_type": "code",
   "execution_count": null,
   "metadata": {},
   "outputs": [],
   "source": [
    "dataframe[(dataframe[\"week\"] == 48) & (dataframe[\"hour\"] == 0)]"
   ]
  },
  {
   "cell_type": "code",
   "execution_count": null,
   "metadata": {},
   "outputs": [],
   "source": [
    "df_grouped[df_grouped[\"week\"] == 48]"
   ]
  },
  {
   "cell_type": "code",
   "execution_count": null,
   "metadata": {},
   "outputs": [],
   "source": [
    "make_general_heatmap(dataframe)"
   ]
  },
  {
   "cell_type": "code",
   "execution_count": 54,
   "metadata": {},
   "outputs": [],
   "source": [
    "personal_data = get_data_with_statistics(user_id, cursor)\n",
    "recommender_data = get_data_from_recommender(cursor)"
   ]
  },
  {
   "cell_type": "code",
   "execution_count": 5,
   "metadata": {},
   "outputs": [
    {
     "data": {
      "text/html": [
       "<div>\n",
       "<style scoped>\n",
       "    .dataframe tbody tr th:only-of-type {\n",
       "        vertical-align: middle;\n",
       "    }\n",
       "\n",
       "    .dataframe tbody tr th {\n",
       "        vertical-align: top;\n",
       "    }\n",
       "\n",
       "    .dataframe thead th {\n",
       "        text-align: right;\n",
       "    }\n",
       "</style>\n",
       "<table border=\"1\" class=\"dataframe\">\n",
       "  <thead>\n",
       "    <tr style=\"text-align: right;\">\n",
       "      <th></th>\n",
       "      <th>artist_name</th>\n",
       "      <th>song_name</th>\n",
       "      <th>danceability</th>\n",
       "      <th>energy</th>\n",
       "      <th>loudness</th>\n",
       "      <th>speechiness</th>\n",
       "      <th>acousticness</th>\n",
       "      <th>instrumentalness</th>\n",
       "      <th>liveness</th>\n",
       "      <th>valence</th>\n",
       "      <th>tempo</th>\n",
       "      <th>end_time</th>\n",
       "    </tr>\n",
       "  </thead>\n",
       "  <tbody>\n",
       "    <tr>\n",
       "      <th>0</th>\n",
       "      <td>Playboi Carti</td>\n",
       "      <td>Shoota (feat. Lil Uzi Vert)</td>\n",
       "      <td>0.674</td>\n",
       "      <td>0.617</td>\n",
       "      <td>-9.680</td>\n",
       "      <td>0.2220</td>\n",
       "      <td>0.1850</td>\n",
       "      <td>0.000</td>\n",
       "      <td>0.1060</td>\n",
       "      <td>0.451</td>\n",
       "      <td>153.103</td>\n",
       "      <td>2022-05-14 09:18</td>\n",
       "    </tr>\n",
       "    <tr>\n",
       "      <th>1</th>\n",
       "      <td>Playboi Carti</td>\n",
       "      <td>Fell In Luv (feat. Bryson Tiller)</td>\n",
       "      <td>0.657</td>\n",
       "      <td>0.668</td>\n",
       "      <td>-6.208</td>\n",
       "      <td>0.1360</td>\n",
       "      <td>0.0273</td>\n",
       "      <td>0.000</td>\n",
       "      <td>0.3200</td>\n",
       "      <td>0.227</td>\n",
       "      <td>162.997</td>\n",
       "      <td>2022-05-14 09:18</td>\n",
       "    </tr>\n",
       "    <tr>\n",
       "      <th>2</th>\n",
       "      <td>Playboi Carti</td>\n",
       "      <td>Magnolia</td>\n",
       "      <td>0.791</td>\n",
       "      <td>0.582</td>\n",
       "      <td>-7.323</td>\n",
       "      <td>0.2860</td>\n",
       "      <td>0.0114</td>\n",
       "      <td>0.000</td>\n",
       "      <td>0.3500</td>\n",
       "      <td>0.443</td>\n",
       "      <td>162.991</td>\n",
       "      <td>2022-05-14 09:21</td>\n",
       "    </tr>\n",
       "    <tr>\n",
       "      <th>3</th>\n",
       "      <td>Trippie Redd</td>\n",
       "      <td>Miss The Rage (feat. Playboi Carti)</td>\n",
       "      <td>0.581</td>\n",
       "      <td>0.877</td>\n",
       "      <td>-4.938</td>\n",
       "      <td>0.1140</td>\n",
       "      <td>0.0151</td>\n",
       "      <td>0.000</td>\n",
       "      <td>0.8260</td>\n",
       "      <td>0.353</td>\n",
       "      <td>77.006</td>\n",
       "      <td>2022-05-14 17:34</td>\n",
       "    </tr>\n",
       "    <tr>\n",
       "      <th>4</th>\n",
       "      <td>070 Shake</td>\n",
       "      <td>Terminal B</td>\n",
       "      <td>0.703</td>\n",
       "      <td>0.393</td>\n",
       "      <td>-11.191</td>\n",
       "      <td>0.0374</td>\n",
       "      <td>0.0755</td>\n",
       "      <td>0.819</td>\n",
       "      <td>0.0876</td>\n",
       "      <td>0.153</td>\n",
       "      <td>135.009</td>\n",
       "      <td>2022-05-14 17:40</td>\n",
       "    </tr>\n",
       "  </tbody>\n",
       "</table>\n",
       "</div>"
      ],
      "text/plain": [
       "     artist_name                            song_name  danceability  energy  \\\n",
       "0  Playboi Carti          Shoota (feat. Lil Uzi Vert)         0.674   0.617   \n",
       "1  Playboi Carti    Fell In Luv (feat. Bryson Tiller)         0.657   0.668   \n",
       "2  Playboi Carti                             Magnolia         0.791   0.582   \n",
       "3   Trippie Redd  Miss The Rage (feat. Playboi Carti)         0.581   0.877   \n",
       "4      070 Shake                           Terminal B         0.703   0.393   \n",
       "\n",
       "   loudness  speechiness  acousticness  instrumentalness  liveness  valence  \\\n",
       "0    -9.680       0.2220        0.1850             0.000    0.1060    0.451   \n",
       "1    -6.208       0.1360        0.0273             0.000    0.3200    0.227   \n",
       "2    -7.323       0.2860        0.0114             0.000    0.3500    0.443   \n",
       "3    -4.938       0.1140        0.0151             0.000    0.8260    0.353   \n",
       "4   -11.191       0.0374        0.0755             0.819    0.0876    0.153   \n",
       "\n",
       "     tempo          end_time  \n",
       "0  153.103  2022-05-14 09:18  \n",
       "1  162.997  2022-05-14 09:18  \n",
       "2  162.991  2022-05-14 09:21  \n",
       "3   77.006  2022-05-14 17:34  \n",
       "4  135.009  2022-05-14 17:40  "
      ]
     },
     "execution_count": 5,
     "metadata": {},
     "output_type": "execute_result"
    }
   ],
   "source": [
    "personal_data.head()"
   ]
  },
  {
   "cell_type": "code",
   "execution_count": 55,
   "metadata": {},
   "outputs": [
    {
     "name": "stdout",
     "output_type": "stream",
     "text": [
      "0       0.743905\n",
      "1       0.850776\n",
      "2       0.816455\n",
      "3       0.889867\n",
      "4       0.697396\n",
      "          ...   \n",
      "1298    0.788476\n",
      "1299    0.735071\n",
      "1300    0.751231\n",
      "1301    0.567810\n",
      "1302    0.559684\n",
      "Name: loudness, Length: 1303, dtype: float64\n"
     ]
    }
   ],
   "source": [
    "recommender_results = recommend_me(personal_data, recommender_data, [\"danceability\", \"energy\", \"loudness\", \"speechiness\", \"acousticness\", \"instrumentalness\", \"liveness\", \"valence\", \"tempo\"])"
   ]
  },
  {
   "cell_type": "code",
   "execution_count": 57,
   "metadata": {},
   "outputs": [
    {
     "data": {
      "text/plain": [
       "{'artist_personal': ['Miły ATZ',\n",
       "  'Floating Points',\n",
       "  'Airelle Besson',\n",
       "  'Charli XCX',\n",
       "  'Leon Vynehall'],\n",
       " 'song_personal': ['Day Off',\n",
       "  'Movement 5',\n",
       "  'The Sound of Your Voice, Pt. II',\n",
       "  'Selfish Girl',\n",
       "  'Movements (Chapter III)'],\n",
       " 'artist_database': ['jonatan leandoer96',\n",
       "  'Sleep Party People',\n",
       "  'Ross from Friends',\n",
       "  'The Temper Trap',\n",
       "  'R.A.P. Ferreira'],\n",
       " 'song_database': ['Vår Sång',\n",
       "  'Everything Has an End',\n",
       "  'A Brand New Start',\n",
       "  'Sweet Disposition',\n",
       "  'CYCLES'],\n",
       " 'distance': [1.0255009115625726,\n",
       "  0.44983759629795655,\n",
       "  0.42817657592525227,\n",
       "  0.3884818924487179,\n",
       "  0.3525853953993009]}"
      ]
     },
     "execution_count": 57,
     "metadata": {},
     "output_type": "execute_result"
    }
   ],
   "source": [
    "recommender_results"
   ]
  },
  {
   "cell_type": "code",
   "execution_count": 58,
   "metadata": {},
   "outputs": [],
   "source": [
    "def get_artists_photos(results_dict, sp):\n",
    "    artist_ids = []\n",
    "\n",
    "    for i in range(len(results_dict)):\n",
    "        artist_personal_name = results_dict[\"artist_personal\"][i]\n",
    "        artist_recommender_name = results_dict[\"artist_database\"][i]\n",
    "        result_personal = sp.search(q=artist_personal_name, type='artist')\n",
    "        artist_id_personal = result_personal['artists']['items'][0]['id']\n",
    "        result_recommender = sp.search(q=artist_recommender_name, type='artist')\n",
    "        artist_id_recommender = result_recommender['artists']['items'][0]['id']\n",
    "        artist_search_personal = sp.artist(artist_id_personal)\n",
    "        artist_search_recommender = sp.artist(artist_id_recommender)\n",
    "        artist_image_url_personal = artist_search_personal['images'][0]['url']\n",
    "        artist_image_url_recommender = artist_search_recommender['images'][0]['url']\n",
    "\n",
    "        urllib.request.urlretrieve(artist_image_url_personal, \"../website/static/artist_image_personal\" + str(i) + \".jpg\")\n",
    "        urllib.request.urlretrieve(artist_image_url_recommender, \"../website/static/artist_image_recommender\" + str(i) + \".jpg\")\n",
    "\n",
    "\n",
    "    "
   ]
  },
  {
   "cell_type": "code",
   "execution_count": 59,
   "metadata": {},
   "outputs": [],
   "source": [
    "get_artists_photos(recommender_results, sp)"
   ]
  },
  {
   "cell_type": "code",
   "execution_count": null,
   "metadata": {},
   "outputs": [],
   "source": []
  }
 ],
 "metadata": {
  "kernelspec": {
   "display_name": "base",
   "language": "python",
   "name": "python3"
  },
  "language_info": {
   "codemirror_mode": {
    "name": "ipython",
    "version": 3
   },
   "file_extension": ".py",
   "mimetype": "text/x-python",
   "name": "python",
   "nbconvert_exporter": "python",
   "pygments_lexer": "ipython3",
   "version": "3.8.8 (default, Apr 13 2021, 12:59:45) \n[Clang 10.0.0 ]"
  },
  "orig_nbformat": 4,
  "vscode": {
   "interpreter": {
    "hash": "f640a9078f8e092032cb0185e0c2b2c1ad2376cf3b94da3c4476fa7bf4b3609c"
   }
  }
 },
 "nbformat": 4,
 "nbformat_minor": 2
}
