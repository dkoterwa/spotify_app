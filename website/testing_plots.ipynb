{
 "cells": [
  {
   "cell_type": "code",
   "execution_count": 2,
   "metadata": {},
   "outputs": [],
   "source": [
    "import pandas as pd\n",
    "import numpy as np\n",
    "import json\n",
    "from pandas.io.json import json_normalize\n",
    "import plotly.express as px\n",
    "import plotly.io as pio\n",
    "from scipy import stats\n",
    "pio.renderers.default = \"vscode\"\n",
    "pio.renderers\n",
    "from plotly.graph_objs import *\n",
    "from song_characteristics import *\n",
    "from plots import *\n",
    "from spot_secrets import *\n",
    "import requests\n",
    "import urllib.request"
   ]
  },
  {
   "cell_type": "code",
   "execution_count": 3,
   "metadata": {},
   "outputs": [],
   "source": [
    "user_id = \"93f1918c-df6a-4c46-94e9-11d35c979f03\""
   ]
  },
  {
   "cell_type": "code",
   "execution_count": 4,
   "metadata": {},
   "outputs": [],
   "source": [
    "conn, cursor = db_connect(\"spotify_db.db\")\n",
    "sp = connect_to_sp(cid, secret)\n",
    "dataframe = download_data(user_id, cursor)"
   ]
  },
  {
   "cell_type": "code",
   "execution_count": null,
   "metadata": {},
   "outputs": [],
   "source": [
    "counts = dataframe.groupby(\"song_name\")[\"song_name\"].size().reset_index(name=\"count\")"
   ]
  },
  {
   "cell_type": "code",
   "execution_count": null,
   "metadata": {},
   "outputs": [],
   "source": [
    "dataframe[\"sec_played\"] = dataframe[\"ms_played\"]/1000"
   ]
  },
  {
   "cell_type": "code",
   "execution_count": null,
   "metadata": {},
   "outputs": [],
   "source": [
    "dataframe = dataframe.drop([\"ms_played\"], axis=1)\n",
    "dataframe = dataframe.groupby(\"song_name\")[\"song_name\"].size().reset_index(name=\"count\")\n",
    "dataframe = dataframe.groupby('count').size().reset_index(name='number_of_songs')\n",
    "plot_df = dataframe.copy()\n",
    "fig = px.scatter(x=plot_df[\"number_of_songs\"], y=plot_df[\"count\"], labels={\"x\":\"Number of songs\", \"y\":\"Number of plays\"}, color_discrete_sequence=['#1DB954'])\n",
    "fig.update_layout(\n",
    "    paper_bgcolor=\"rgba(0,0,0,0)\",\n",
    "    plot_bgcolor=\"rgba(0,0,0,0)\",\n",
    "    title_font_color=\"white\",\n",
    "    title = {\n",
    "        \"text\":\"Do you attach to songs?\",\n",
    "        \"x\": 0.5,\n",
    "        \"xanchor\":\"center\",\n",
    "        \"yanchor\": \"top\"\n",
    "    }\n",
    ")\n",
    "fig.update_xaxes(color=\"white\")\n",
    "fig.update_yaxes(color=\"white\")"
   ]
  },
  {
   "cell_type": "code",
   "execution_count": null,
   "metadata": {},
   "outputs": [],
   "source": [
    "dataframe = download_data(user_id, cursor)"
   ]
  },
  {
   "cell_type": "code",
   "execution_count": null,
   "metadata": {},
   "outputs": [],
   "source": [
    "total_listening_time, favorite_artists, favorite_songs, distinct_artists, distinct_songs, favorite_artists_minutes, favorite_artist_fraction, favorite_songs_of_fav_artist, number_of_songs_by_fav_artist, favorite_morning, favorite_evening = get_general_statistics(dataframe)"
   ]
  },
  {
   "cell_type": "code",
   "execution_count": null,
   "metadata": {},
   "outputs": [],
   "source": [
    "favorite_songs_of_fav_artist"
   ]
  },
  {
   "cell_type": "code",
   "execution_count": null,
   "metadata": {},
   "outputs": [],
   "source": [
    "favorite_artists"
   ]
  },
  {
   "cell_type": "code",
   "execution_count": null,
   "metadata": {},
   "outputs": [],
   "source": [
    "dataframe[\"min_played\"] = dataframe[\"ms_played\"]/60000"
   ]
  },
  {
   "cell_type": "code",
   "execution_count": null,
   "metadata": {},
   "outputs": [],
   "source": [
    "total_listening_time = dataframe[\"min_played\"].sum() # Total listening time\n",
    "favorite_artists = dataframe.groupby(\"artist_name\")[\"artist_name\"].size().reset_index(name=\"count\").sort_values(\"count\", ascending=False) # Favorite artists\n",
    "favorite_songs = dataframe.groupby([\"artist_name\", \"song_name\"]).size().reset_index(name=\"count\").sort_values(\"count\", ascending=False) # Favorite songs\n",
    "distinct_artists = len(dataframe.drop_duplicates(\"artist_name\")) # Distinct artists\n",
    "distinct_songs = len(dataframe.drop_duplicates(\"song_name\")) # Distinct songs\n"
   ]
  },
  {
   "cell_type": "code",
   "execution_count": null,
   "metadata": {},
   "outputs": [],
   "source": [
    "# Stats for favorite artist\n",
    "favorite_artists_minutes = dataframe.groupby(\"artist_name\")[\"min_played\"].sum().astype(int).reset_index(name=\"sum_of_minutes\").sort_values(\"sum_of_minutes\", ascending=False) # Minutes of favorite artists\n",
    "favorite_artist_fraction = favorite_artists_minutes[\"sum_of_minutes\"].iloc[0] / favorite_artists_minutes[\"sum_of_minutes\"][1:].sum() # Percentage of minutes occupied by favorite artist\n",
    "favorite_songs_of_fav_artist = favorite_songs[favorite_songs[\"artist_name\"] == favorite_artists[\"artist_name\"].iloc[0]] # Favorite songs of favorite artist\n",
    "number_of_songs_by_fav_artist = len(favorite_songs_of_fav_artist) # Number of distinct songs of favorite artist listened"
   ]
  },
  {
   "cell_type": "code",
   "execution_count": null,
   "metadata": {},
   "outputs": [],
   "source": [
    "dataframe[\"hour\"] = pd.to_datetime(dataframe[\"end_time\"]).dt.hour\n",
    "dataframe_evening = dataframe[(dataframe[\"hour\"].astype(int) > 19) | (dataframe[\"hour\"].astype(int) < 5)]\n",
    "dataframe_morning = dataframe[(dataframe[\"hour\"].astype(int) > 5) & (dataframe[\"hour\"].astype(int) < 10)]"
   ]
  },
  {
   "cell_type": "code",
   "execution_count": null,
   "metadata": {},
   "outputs": [],
   "source": [
    "favorite_evening = dataframe_evening.groupby([\"artist_name\", \"song_name\"]).size().reset_index(name=\"count\").sort_values(\"count\", ascending=False) # Favorite morning songs\n",
    "favorite_morning = dataframe_morning.groupby([\"artist_name\", \"song_name\"]).size().reset_index(name=\"count\").sort_values(\"count\", ascending=False) # Favorite evening songs"
   ]
  },
  {
   "cell_type": "code",
   "execution_count": null,
   "metadata": {},
   "outputs": [],
   "source": [
    "favorite_morning.head()"
   ]
  },
  {
   "cell_type": "code",
   "execution_count": null,
   "metadata": {},
   "outputs": [],
   "source": [
    "dataframe['date'] = pd.to_datetime(dataframe['end_time'])"
   ]
  },
  {
   "cell_type": "code",
   "execution_count": null,
   "metadata": {},
   "outputs": [],
   "source": [
    "dataframe['date'] = pd.to_datetime(dataframe['date'].dt.date)"
   ]
  },
  {
   "cell_type": "code",
   "execution_count": null,
   "metadata": {},
   "outputs": [],
   "source": [
    "dataframe['hour'] = pd.to_datetime(dataframe['end_time']).dt.hour"
   ]
  },
  {
   "cell_type": "code",
   "execution_count": null,
   "metadata": {},
   "outputs": [],
   "source": [
    "dataframe['week'] = pd.to_datetime(dataframe['end_time']).dt.week"
   ]
  },
  {
   "cell_type": "code",
   "execution_count": null,
   "metadata": {},
   "outputs": [],
   "source": [
    "df_grouped = dataframe.groupby(['week', 'hour']).size().reset_index(name='count')"
   ]
  },
  {
   "cell_type": "code",
   "execution_count": null,
   "metadata": {},
   "outputs": [],
   "source": [
    "dataframe[(dataframe[\"week\"] == 48) & (dataframe[\"hour\"] == 0)]"
   ]
  },
  {
   "cell_type": "code",
   "execution_count": null,
   "metadata": {},
   "outputs": [],
   "source": [
    "df_grouped[df_grouped[\"week\"] == 48]"
   ]
  },
  {
   "cell_type": "code",
   "execution_count": null,
   "metadata": {},
   "outputs": [],
   "source": [
    "make_general_heatmap(dataframe)"
   ]
  },
  {
   "cell_type": "code",
   "execution_count": 54,
   "metadata": {},
   "outputs": [],
   "source": [
    "personal_data = get_data_with_statistics(user_id, cursor)\n",
    "recommender_data = get_data_from_recommender(cursor)"
   ]
  },
  {
   "cell_type": "code",
   "execution_count": 5,
   "metadata": {},
   "outputs": [
    {
     "data": {
      "text/html": [
       "<div>\n",
       "<style scoped>\n",
       "    .dataframe tbody tr th:only-of-type {\n",
       "        vertical-align: middle;\n",
       "    }\n",
       "\n",
       "    .dataframe tbody tr th {\n",
       "        vertical-align: top;\n",
       "    }\n",
       "\n",
       "    .dataframe thead th {\n",
       "        text-align: right;\n",
       "    }\n",
       "</style>\n",
       "<table border=\"1\" class=\"dataframe\">\n",
       "  <thead>\n",
       "    <tr style=\"text-align: right;\">\n",
       "      <th></th>\n",
       "      <th>artist_name</th>\n",
       "      <th>song_name</th>\n",
       "      <th>danceability</th>\n",
       "      <th>energy</th>\n",
       "      <th>loudness</th>\n",
       "      <th>speechiness</th>\n",
       "      <th>acousticness</th>\n",
       "      <th>instrumentalness</th>\n",
       "      <th>liveness</th>\n",
       "      <th>valence</th>\n",
       "      <th>tempo</th>\n",
       "      <th>end_time</th>\n",
       "    </tr>\n",
       "  </thead>\n",
       "  <tbody>\n",
       "    <tr>\n",
       "      <th>0</th>\n",
       "      <td>Playboi Carti</td>\n",
       "      <td>Shoota (feat. Lil Uzi Vert)</td>\n",
       "      <td>0.674</td>\n",
       "      <td>0.617</td>\n",
       "      <td>-9.680</td>\n",
       "      <td>0.2220</td>\n",
       "      <td>0.1850</td>\n",
       "      <td>0.000</td>\n",
       "      <td>0.1060</td>\n",
       "      <td>0.451</td>\n",
       "      <td>153.103</td>\n",
       "      <td>2022-05-14 09:18</td>\n",
       "    </tr>\n",
       "    <tr>\n",
       "      <th>1</th>\n",
       "      <td>Playboi Carti</td>\n",
       "      <td>Fell In Luv (feat. Bryson Tiller)</td>\n",
       "      <td>0.657</td>\n",
       "      <td>0.668</td>\n",
       "      <td>-6.208</td>\n",
       "      <td>0.1360</td>\n",
       "      <td>0.0273</td>\n",
       "      <td>0.000</td>\n",
       "      <td>0.3200</td>\n",
       "      <td>0.227</td>\n",
       "      <td>162.997</td>\n",
       "      <td>2022-05-14 09:18</td>\n",
       "    </tr>\n",
       "    <tr>\n",
       "      <th>2</th>\n",
       "      <td>Playboi Carti</td>\n",
       "      <td>Magnolia</td>\n",
       "      <td>0.791</td>\n",
       "      <td>0.582</td>\n",
       "      <td>-7.323</td>\n",
       "      <td>0.2860</td>\n",
       "      <td>0.0114</td>\n",
       "      <td>0.000</td>\n",
       "      <td>0.3500</td>\n",
       "      <td>0.443</td>\n",
       "      <td>162.991</td>\n",
       "      <td>2022-05-14 09:21</td>\n",
       "    </tr>\n",
       "    <tr>\n",
       "      <th>3</th>\n",
       "      <td>Trippie Redd</td>\n",
       "      <td>Miss The Rage (feat. Playboi Carti)</td>\n",
       "      <td>0.581</td>\n",
       "      <td>0.877</td>\n",
       "      <td>-4.938</td>\n",
       "      <td>0.1140</td>\n",
       "      <td>0.0151</td>\n",
       "      <td>0.000</td>\n",
       "      <td>0.8260</td>\n",
       "      <td>0.353</td>\n",
       "      <td>77.006</td>\n",
       "      <td>2022-05-14 17:34</td>\n",
       "    </tr>\n",
       "    <tr>\n",
       "      <th>4</th>\n",
       "      <td>070 Shake</td>\n",
       "      <td>Terminal B</td>\n",
       "      <td>0.703</td>\n",
       "      <td>0.393</td>\n",
       "      <td>-11.191</td>\n",
       "      <td>0.0374</td>\n",
       "      <td>0.0755</td>\n",
       "      <td>0.819</td>\n",
       "      <td>0.0876</td>\n",
       "      <td>0.153</td>\n",
       "      <td>135.009</td>\n",
       "      <td>2022-05-14 17:40</td>\n",
       "    </tr>\n",
       "  </tbody>\n",
       "</table>\n",
       "</div>"
      ],
      "text/plain": [
       "     artist_name                            song_name  danceability  energy  \\\n",
       "0  Playboi Carti          Shoota (feat. Lil Uzi Vert)         0.674   0.617   \n",
       "1  Playboi Carti    Fell In Luv (feat. Bryson Tiller)         0.657   0.668   \n",
       "2  Playboi Carti                             Magnolia         0.791   0.582   \n",
       "3   Trippie Redd  Miss The Rage (feat. Playboi Carti)         0.581   0.877   \n",
       "4      070 Shake                           Terminal B         0.703   0.393   \n",
       "\n",
       "   loudness  speechiness  acousticness  instrumentalness  liveness  valence  \\\n",
       "0    -9.680       0.2220        0.1850             0.000    0.1060    0.451   \n",
       "1    -6.208       0.1360        0.0273             0.000    0.3200    0.227   \n",
       "2    -7.323       0.2860        0.0114             0.000    0.3500    0.443   \n",
       "3    -4.938       0.1140        0.0151             0.000    0.8260    0.353   \n",
       "4   -11.191       0.0374        0.0755             0.819    0.0876    0.153   \n",
       "\n",
       "     tempo          end_time  \n",
       "0  153.103  2022-05-14 09:18  \n",
       "1  162.997  2022-05-14 09:18  \n",
       "2  162.991  2022-05-14 09:21  \n",
       "3   77.006  2022-05-14 17:34  \n",
       "4  135.009  2022-05-14 17:40  "
      ]
     },
     "execution_count": 5,
     "metadata": {},
     "output_type": "execute_result"
    }
   ],
   "source": [
    "personal_data.head()"
   ]
  },
  {
   "cell_type": "code",
   "execution_count": 55,
   "metadata": {},
   "outputs": [
    {
     "name": "stdout",
     "output_type": "stream",
     "text": [
      "0       0.743905\n",
      "1       0.850776\n",
      "2       0.816455\n",
      "3       0.889867\n",
      "4       0.697396\n",
      "          ...   \n",
      "1298    0.788476\n",
      "1299    0.735071\n",
      "1300    0.751231\n",
      "1301    0.567810\n",
      "1302    0.559684\n",
      "Name: loudness, Length: 1303, dtype: float64\n"
     ]
    }
   ],
   "source": [
    "recommender_results = recommend_me(personal_data, recommender_data, [\"danceability\", \"energy\", \"loudness\", \"speechiness\", \"acousticness\", \"instrumentalness\", \"liveness\", \"valence\", \"tempo\"])"
   ]
  },
  {
   "cell_type": "code",
   "execution_count": 57,
   "metadata": {},
   "outputs": [
    {
     "data": {
      "text/plain": [
       "{'artist_personal': ['Miły ATZ',\n",
       "  'Floating Points',\n",
       "  'Airelle Besson',\n",
       "  'Charli XCX',\n",
       "  'Leon Vynehall'],\n",
       " 'song_personal': ['Day Off',\n",
       "  'Movement 5',\n",
       "  'The Sound of Your Voice, Pt. II',\n",
       "  'Selfish Girl',\n",
       "  'Movements (Chapter III)'],\n",
       " 'artist_database': ['jonatan leandoer96',\n",
       "  'Sleep Party People',\n",
       "  'Ross from Friends',\n",
       "  'The Temper Trap',\n",
       "  'R.A.P. Ferreira'],\n",
       " 'song_database': ['Vår Sång',\n",
       "  'Everything Has an End',\n",
       "  'A Brand New Start',\n",
       "  'Sweet Disposition',\n",
       "  'CYCLES'],\n",
       " 'distance': [1.0255009115625726,\n",
       "  0.44983759629795655,\n",
       "  0.42817657592525227,\n",
       "  0.3884818924487179,\n",
       "  0.3525853953993009]}"
      ]
     },
     "execution_count": 57,
     "metadata": {},
     "output_type": "execute_result"
    }
   ],
   "source": [
    "recommender_results"
   ]
  },
  {
   "cell_type": "code",
   "execution_count": 58,
   "metadata": {},
   "outputs": [],
   "source": [
    "def get_artists_photos(results_dict, sp):\n",
    "    artist_ids = []\n",
    "\n",
    "    for i in range(len(results_dict)):\n",
    "        artist_personal_name = results_dict[\"artist_personal\"][i]\n",
    "        artist_recommender_name = results_dict[\"artist_database\"][i]\n",
    "        result_personal = sp.search(q=artist_personal_name, type='artist')\n",
    "        artist_id_personal = result_personal['artists']['items'][0]['id']\n",
    "        result_recommender = sp.search(q=artist_recommender_name, type='artist')\n",
    "        artist_id_recommender = result_recommender['artists']['items'][0]['id']\n",
    "        artist_search_personal = sp.artist(artist_id_personal)\n",
    "        artist_search_recommender = sp.artist(artist_id_recommender)\n",
    "        artist_image_url_personal = artist_search_personal['images'][0]['url']\n",
    "        artist_image_url_recommender = artist_search_recommender['images'][0]['url']\n",
    "\n",
    "        urllib.request.urlretrieve(artist_image_url_personal, \"../website/static/artist_image_personal\" + str(i) + \".jpg\")\n",
    "        urllib.request.urlretrieve(artist_image_url_recommender, \"../website/static/artist_image_recommender\" + str(i) + \".jpg\")\n",
    "\n",
    "\n",
    "    "
   ]
  },
  {
   "cell_type": "code",
   "execution_count": 59,
   "metadata": {},
   "outputs": [],
   "source": [
    "get_artists_photos(recommender_results, sp)"
   ]
  },
  {
   "cell_type": "code",
   "execution_count": 5,
   "metadata": {},
   "outputs": [],
   "source": [
    "data = get_song_stats_by_date_with(user_id, cursor)"
   ]
  },
  {
   "cell_type": "code",
   "execution_count": 6,
   "metadata": {},
   "outputs": [
    {
     "data": {
      "text/html": [
       "<div>\n",
       "<style scoped>\n",
       "    .dataframe tbody tr th:only-of-type {\n",
       "        vertical-align: middle;\n",
       "    }\n",
       "\n",
       "    .dataframe tbody tr th {\n",
       "        vertical-align: top;\n",
       "    }\n",
       "\n",
       "    .dataframe thead th {\n",
       "        text-align: right;\n",
       "    }\n",
       "</style>\n",
       "<table border=\"1\" class=\"dataframe\">\n",
       "  <thead>\n",
       "    <tr style=\"text-align: right;\">\n",
       "      <th></th>\n",
       "      <th>artist_name</th>\n",
       "      <th>song_name</th>\n",
       "      <th>danceability</th>\n",
       "      <th>energy</th>\n",
       "      <th>tempo</th>\n",
       "      <th>acousticness</th>\n",
       "      <th>loudness</th>\n",
       "      <th>instrumentalness</th>\n",
       "      <th>end_time</th>\n",
       "    </tr>\n",
       "  </thead>\n",
       "  <tbody>\n",
       "    <tr>\n",
       "      <th>0</th>\n",
       "      <td>Męskie Granie Orkiestra</td>\n",
       "      <td>Elektryczny</td>\n",
       "      <td>0.652</td>\n",
       "      <td>0.816</td>\n",
       "      <td>139.931</td>\n",
       "      <td>0.19700</td>\n",
       "      <td>-4.299</td>\n",
       "      <td>0.000036</td>\n",
       "      <td>2022-01-01 01:52</td>\n",
       "    </tr>\n",
       "    <tr>\n",
       "      <th>1</th>\n",
       "      <td>Muniek Staszczyk</td>\n",
       "      <td>Pola</td>\n",
       "      <td>0.600</td>\n",
       "      <td>0.732</td>\n",
       "      <td>170.024</td>\n",
       "      <td>0.00924</td>\n",
       "      <td>-7.472</td>\n",
       "      <td>0.000005</td>\n",
       "      <td>2022-01-01 20:59</td>\n",
       "    </tr>\n",
       "    <tr>\n",
       "      <th>2</th>\n",
       "      <td>Lorde</td>\n",
       "      <td>Stoned at the Nail Salon</td>\n",
       "      <td>0.473</td>\n",
       "      <td>0.128</td>\n",
       "      <td>93.950</td>\n",
       "      <td>0.94800</td>\n",
       "      <td>-12.303</td>\n",
       "      <td>0.000054</td>\n",
       "      <td>2022-01-01 20:59</td>\n",
       "    </tr>\n",
       "    <tr>\n",
       "      <th>3</th>\n",
       "      <td>Kings of Leon</td>\n",
       "      <td>Pyro</td>\n",
       "      <td>0.365</td>\n",
       "      <td>0.606</td>\n",
       "      <td>114.995</td>\n",
       "      <td>0.00757</td>\n",
       "      <td>-7.174</td>\n",
       "      <td>0.052000</td>\n",
       "      <td>2022-01-01 21:03</td>\n",
       "    </tr>\n",
       "    <tr>\n",
       "      <th>4</th>\n",
       "      <td>Imagine Dragons</td>\n",
       "      <td>I’m So Sorry</td>\n",
       "      <td>0.528</td>\n",
       "      <td>0.687</td>\n",
       "      <td>142.605</td>\n",
       "      <td>0.14400</td>\n",
       "      <td>-5.954</td>\n",
       "      <td>0.000000</td>\n",
       "      <td>2022-01-01 21:07</td>\n",
       "    </tr>\n",
       "  </tbody>\n",
       "</table>\n",
       "</div>"
      ],
      "text/plain": [
       "               artist_name                 song_name  danceability  energy  \\\n",
       "0  Męskie Granie Orkiestra               Elektryczny         0.652   0.816   \n",
       "1         Muniek Staszczyk                      Pola         0.600   0.732   \n",
       "2                    Lorde  Stoned at the Nail Salon         0.473   0.128   \n",
       "3            Kings of Leon                      Pyro         0.365   0.606   \n",
       "4          Imagine Dragons              I’m So Sorry         0.528   0.687   \n",
       "\n",
       "     tempo  acousticness  loudness  instrumentalness          end_time  \n",
       "0  139.931       0.19700    -4.299          0.000036  2022-01-01 01:52  \n",
       "1  170.024       0.00924    -7.472          0.000005  2022-01-01 20:59  \n",
       "2   93.950       0.94800   -12.303          0.000054  2022-01-01 20:59  \n",
       "3  114.995       0.00757    -7.174          0.052000  2022-01-01 21:03  \n",
       "4  142.605       0.14400    -5.954          0.000000  2022-01-01 21:07  "
      ]
     },
     "execution_count": 6,
     "metadata": {},
     "output_type": "execute_result"
    }
   ],
   "source": [
    "data.head()"
   ]
  },
  {
   "cell_type": "code",
   "execution_count": 66,
   "metadata": {},
   "outputs": [
    {
     "data": {
      "text/plain": [
       "0      2022-01-01 01:52\n",
       "1      2022-01-01 20:59\n",
       "2      2022-01-01 20:59\n",
       "3      2022-01-01 21:03\n",
       "4      2022-01-01 21:07\n",
       "             ...       \n",
       "852    2022-01-27 21:53\n",
       "853    2022-01-27 21:58\n",
       "854    2022-01-27 22:01\n",
       "855    2022-01-27 22:05\n",
       "856    2022-01-28 11:28\n",
       "Name: end_time, Length: 857, dtype: object"
      ]
     },
     "execution_count": 66,
     "metadata": {},
     "output_type": "execute_result"
    }
   ],
   "source": [
    "data[\"end_time\"]"
   ]
  },
  {
   "cell_type": "code",
   "execution_count": 15,
   "metadata": {},
   "outputs": [],
   "source": [
    "data[\"month\"] = pd.to_datetime(data[\"end_time\"]).dt.month"
   ]
  },
  {
   "cell_type": "code",
   "execution_count": 62,
   "metadata": {},
   "outputs": [
    {
     "ename": "TypeError",
     "evalue": "'tuple' object is not callable",
     "output_type": "error",
     "traceback": [
      "\u001b[0;31m---------------------------------------------------------------------------\u001b[0m",
      "\u001b[0;31mTypeError\u001b[0m                                 Traceback (most recent call last)",
      "\u001b[0;32m<ipython-input-62-3d8483998d6f>\u001b[0m in \u001b[0;36m<module>\u001b[0;34m\u001b[0m\n\u001b[0;32m----> 1\u001b[0;31m \u001b[0mdata\u001b[0m\u001b[0;34m.\u001b[0m\u001b[0mshape\u001b[0m\u001b[0;34m(\u001b[0m\u001b[0;34m)\u001b[0m\u001b[0;34m\u001b[0m\u001b[0;34m\u001b[0m\u001b[0m\n\u001b[0m",
      "\u001b[0;31mTypeError\u001b[0m: 'tuple' object is not callable"
     ]
    }
   ],
   "source": [
    "data.shape()"
   ]
  },
  {
   "cell_type": "code",
   "execution_count": 59,
   "metadata": {},
   "outputs": [],
   "source": [
    "data = data.groupby(\"month\").agg(\"mean\").reset_index()"
   ]
  },
  {
   "cell_type": "code",
   "execution_count": 60,
   "metadata": {},
   "outputs": [
    {
     "data": {
      "text/plain": [
       "1    1\n",
       "Name: month, dtype: int64"
      ]
     },
     "execution_count": 60,
     "metadata": {},
     "output_type": "execute_result"
    }
   ],
   "source": [
    "data[\"month\"].value_counts()"
   ]
  },
  {
   "cell_type": "code",
   "execution_count": 47,
   "metadata": {},
   "outputs": [],
   "source": [
    "def song_statistics_through_the_year(dataframe):\n",
    "    dataframe = normalize(dataframe, [\"tempo\", \"loudness\"])\n",
    "    dataframe[\"month\"] = pd.to_datetime(dataframe[\"end_time\"]).dt.month\n",
    "    plot_data = dataframe.groupby(\"month\").agg(\"mean\").reset_index()\n",
    "    plot_data.head()\n",
    "    fig = go.Figure()\n",
    "    fig.add_trace(go.Scatter(y=plot_data['danceability'], x=plot_data['month'],\n",
    "                        mode='lines',\n",
    "                        name='danceability'))\n",
    "    fig.add_trace(go.Scatter(y=plot_data['energy'], x=plot_data['month'],\n",
    "                             mode='lines',\n",
    "                             name='energy'))\n",
    "    fig.add_trace(go.Scatter(y=plot_data['tempo'], x=plot_data['month'],\n",
    "                             mode='lines',\n",
    "                             name='tempo'))\n",
    "    fig.add_trace(go.Scatter(y=plot_data['acousticness'], x=plot_data['month'],\n",
    "                             mode='lines',\n",
    "                             name='acousticnesss'))\n",
    "    fig.add_trace(go.Scatter(y=plot_data['instrumentalness'], x=plot_data['month'],\n",
    "                             mode='lines',\n",
    "                             name='instrumentalness'))\n",
    "    fig.show()\n",
    "    return fig\n"
   ]
  },
  {
   "cell_type": "code",
   "execution_count": 56,
   "metadata": {},
   "outputs": [],
   "source": [
    "data= normalize(data, [\"tempo\", \"loudness\"])"
   ]
  },
  {
   "cell_type": "code",
   "execution_count": 57,
   "metadata": {},
   "outputs": [
    {
     "data": {
      "text/html": [
       "<div>\n",
       "<style scoped>\n",
       "    .dataframe tbody tr th:only-of-type {\n",
       "        vertical-align: middle;\n",
       "    }\n",
       "\n",
       "    .dataframe tbody tr th {\n",
       "        vertical-align: top;\n",
       "    }\n",
       "\n",
       "    .dataframe thead th {\n",
       "        text-align: right;\n",
       "    }\n",
       "</style>\n",
       "<table border=\"1\" class=\"dataframe\">\n",
       "  <thead>\n",
       "    <tr style=\"text-align: right;\">\n",
       "      <th></th>\n",
       "      <th>danceability</th>\n",
       "      <th>energy</th>\n",
       "      <th>tempo</th>\n",
       "      <th>acousticness</th>\n",
       "      <th>loudness</th>\n",
       "      <th>instrumentalness</th>\n",
       "      <th>end_time</th>\n",
       "    </tr>\n",
       "  </thead>\n",
       "  <tbody>\n",
       "    <tr>\n",
       "      <th>0</th>\n",
       "      <td>0.652</td>\n",
       "      <td>0.816</td>\n",
       "      <td>0.638561</td>\n",
       "      <td>0.19700</td>\n",
       "      <td>0.921648</td>\n",
       "      <td>0.000036</td>\n",
       "      <td>2022-01-01 01:52</td>\n",
       "    </tr>\n",
       "    <tr>\n",
       "      <th>1</th>\n",
       "      <td>0.600</td>\n",
       "      <td>0.732</td>\n",
       "      <td>0.775887</td>\n",
       "      <td>0.00924</td>\n",
       "      <td>0.847789</td>\n",
       "      <td>0.000005</td>\n",
       "      <td>2022-01-01 20:59</td>\n",
       "    </tr>\n",
       "    <tr>\n",
       "      <th>2</th>\n",
       "      <td>0.473</td>\n",
       "      <td>0.128</td>\n",
       "      <td>0.428731</td>\n",
       "      <td>0.94800</td>\n",
       "      <td>0.735335</td>\n",
       "      <td>0.000054</td>\n",
       "      <td>2022-01-01 20:59</td>\n",
       "    </tr>\n",
       "    <tr>\n",
       "      <th>3</th>\n",
       "      <td>0.365</td>\n",
       "      <td>0.606</td>\n",
       "      <td>0.524768</td>\n",
       "      <td>0.00757</td>\n",
       "      <td>0.854725</td>\n",
       "      <td>0.052000</td>\n",
       "      <td>2022-01-01 21:03</td>\n",
       "    </tr>\n",
       "    <tr>\n",
       "      <th>4</th>\n",
       "      <td>0.528</td>\n",
       "      <td>0.687</td>\n",
       "      <td>0.650763</td>\n",
       "      <td>0.14400</td>\n",
       "      <td>0.883124</td>\n",
       "      <td>0.000000</td>\n",
       "      <td>2022-01-01 21:07</td>\n",
       "    </tr>\n",
       "  </tbody>\n",
       "</table>\n",
       "</div>"
      ],
      "text/plain": [
       "   danceability  energy     tempo  acousticness  loudness  instrumentalness  \\\n",
       "0         0.652   0.816  0.638561       0.19700  0.921648          0.000036   \n",
       "1         0.600   0.732  0.775887       0.00924  0.847789          0.000005   \n",
       "2         0.473   0.128  0.428731       0.94800  0.735335          0.000054   \n",
       "3         0.365   0.606  0.524768       0.00757  0.854725          0.052000   \n",
       "4         0.528   0.687  0.650763       0.14400  0.883124          0.000000   \n",
       "\n",
       "           end_time  \n",
       "0  2022-01-01 01:52  \n",
       "1  2022-01-01 20:59  \n",
       "2  2022-01-01 20:59  \n",
       "3  2022-01-01 21:03  \n",
       "4  2022-01-01 21:07  "
      ]
     },
     "execution_count": 57,
     "metadata": {},
     "output_type": "execute_result"
    }
   ],
   "source": [
    "data.head()"
   ]
  },
  {
   "cell_type": "code",
   "execution_count": 85,
   "metadata": {},
   "outputs": [
    {
     "data": {
      "text/plain": [
       "0.7966068783015884"
      ]
     },
     "execution_count": 85,
     "metadata": {},
     "output_type": "execute_result"
    }
   ],
   "source": [
    "data.agg(\"mean\")[\"loudness\"]"
   ]
  },
  {
   "cell_type": "code",
   "execution_count": 54,
   "metadata": {},
   "outputs": [
    {
     "ename": "KeyError",
     "evalue": "'end_time'",
     "output_type": "error",
     "traceback": [
      "\u001b[0;31m---------------------------------------------------------------------------\u001b[0m",
      "\u001b[0;31mKeyError\u001b[0m                                  Traceback (most recent call last)",
      "\u001b[0;32m~/opt/anaconda3/lib/python3.8/site-packages/pandas/core/indexes/base.py\u001b[0m in \u001b[0;36mget_loc\u001b[0;34m(self, key, method, tolerance)\u001b[0m\n\u001b[1;32m   3079\u001b[0m             \u001b[0;32mtry\u001b[0m\u001b[0;34m:\u001b[0m\u001b[0;34m\u001b[0m\u001b[0;34m\u001b[0m\u001b[0m\n\u001b[0;32m-> 3080\u001b[0;31m                 \u001b[0;32mreturn\u001b[0m \u001b[0mself\u001b[0m\u001b[0;34m.\u001b[0m\u001b[0m_engine\u001b[0m\u001b[0;34m.\u001b[0m\u001b[0mget_loc\u001b[0m\u001b[0;34m(\u001b[0m\u001b[0mcasted_key\u001b[0m\u001b[0;34m)\u001b[0m\u001b[0;34m\u001b[0m\u001b[0;34m\u001b[0m\u001b[0m\n\u001b[0m\u001b[1;32m   3081\u001b[0m             \u001b[0;32mexcept\u001b[0m \u001b[0mKeyError\u001b[0m \u001b[0;32mas\u001b[0m \u001b[0merr\u001b[0m\u001b[0;34m:\u001b[0m\u001b[0;34m\u001b[0m\u001b[0;34m\u001b[0m\u001b[0m\n",
      "\u001b[0;32mpandas/_libs/index.pyx\u001b[0m in \u001b[0;36mpandas._libs.index.IndexEngine.get_loc\u001b[0;34m()\u001b[0m\n",
      "\u001b[0;32mpandas/_libs/index.pyx\u001b[0m in \u001b[0;36mpandas._libs.index.IndexEngine.get_loc\u001b[0;34m()\u001b[0m\n",
      "\u001b[0;32mpandas/_libs/hashtable_class_helper.pxi\u001b[0m in \u001b[0;36mpandas._libs.hashtable.PyObjectHashTable.get_item\u001b[0;34m()\u001b[0m\n",
      "\u001b[0;32mpandas/_libs/hashtable_class_helper.pxi\u001b[0m in \u001b[0;36mpandas._libs.hashtable.PyObjectHashTable.get_item\u001b[0;34m()\u001b[0m\n",
      "\u001b[0;31mKeyError\u001b[0m: 'end_time'",
      "\nThe above exception was the direct cause of the following exception:\n",
      "\u001b[0;31mKeyError\u001b[0m                                  Traceback (most recent call last)",
      "\u001b[0;32m<ipython-input-54-00ddedeea1f4>\u001b[0m in \u001b[0;36m<module>\u001b[0;34m\u001b[0m\n\u001b[0;32m----> 1\u001b[0;31m \u001b[0mdata\u001b[0m \u001b[0;34m=\u001b[0m \u001b[0msong_statistics_through_the_year\u001b[0m\u001b[0;34m(\u001b[0m\u001b[0mdata\u001b[0m\u001b[0;34m)\u001b[0m\u001b[0;34m\u001b[0m\u001b[0;34m\u001b[0m\u001b[0m\n\u001b[0m",
      "\u001b[0;32m/Volumes/HD/GitHub/spotify_app/website/plots.py\u001b[0m in \u001b[0;36msong_statistics_through_the_year\u001b[0;34m(dataframe)\u001b[0m\n\u001b[1;32m     90\u001b[0m \u001b[0;32mdef\u001b[0m \u001b[0msong_statistics_through_the_year\u001b[0m\u001b[0;34m(\u001b[0m\u001b[0mdataframe\u001b[0m\u001b[0;34m)\u001b[0m\u001b[0;34m:\u001b[0m\u001b[0;34m\u001b[0m\u001b[0;34m\u001b[0m\u001b[0m\n\u001b[1;32m     91\u001b[0m     \u001b[0mdataframe\u001b[0m \u001b[0;34m=\u001b[0m \u001b[0mnormalize\u001b[0m\u001b[0;34m(\u001b[0m\u001b[0mdataframe\u001b[0m\u001b[0;34m,\u001b[0m \u001b[0;34m[\u001b[0m\u001b[0;34m\"tempo\"\u001b[0m\u001b[0;34m,\u001b[0m \u001b[0;34m\"loudness\"\u001b[0m\u001b[0;34m]\u001b[0m\u001b[0;34m)\u001b[0m\u001b[0;34m\u001b[0m\u001b[0;34m\u001b[0m\u001b[0m\n\u001b[0;32m---> 92\u001b[0;31m     \u001b[0mdataframe\u001b[0m\u001b[0;34m[\u001b[0m\u001b[0;34m\"month\"\u001b[0m\u001b[0;34m]\u001b[0m \u001b[0;34m=\u001b[0m \u001b[0mpd\u001b[0m\u001b[0;34m.\u001b[0m\u001b[0mto_datetime\u001b[0m\u001b[0;34m(\u001b[0m\u001b[0mdataframe\u001b[0m\u001b[0;34m[\u001b[0m\u001b[0;34m\"end_time\"\u001b[0m\u001b[0;34m]\u001b[0m\u001b[0;34m)\u001b[0m\u001b[0;34m.\u001b[0m\u001b[0mdt\u001b[0m\u001b[0;34m.\u001b[0m\u001b[0mmonth\u001b[0m\u001b[0;34m\u001b[0m\u001b[0;34m\u001b[0m\u001b[0m\n\u001b[0m\u001b[1;32m     93\u001b[0m     \u001b[0mplot_data\u001b[0m \u001b[0;34m=\u001b[0m \u001b[0mdataframe\u001b[0m\u001b[0;34m.\u001b[0m\u001b[0mgroupby\u001b[0m\u001b[0;34m(\u001b[0m\u001b[0;34m\"month\"\u001b[0m\u001b[0;34m)\u001b[0m\u001b[0;34m.\u001b[0m\u001b[0magg\u001b[0m\u001b[0;34m(\u001b[0m\u001b[0;34m\"mean\"\u001b[0m\u001b[0;34m)\u001b[0m\u001b[0;34m.\u001b[0m\u001b[0mreset_index\u001b[0m\u001b[0;34m(\u001b[0m\u001b[0;34m)\u001b[0m\u001b[0;34m\u001b[0m\u001b[0;34m\u001b[0m\u001b[0m\n\u001b[1;32m     94\u001b[0m     \u001b[0mfig\u001b[0m \u001b[0;34m=\u001b[0m \u001b[0mgo\u001b[0m\u001b[0;34m.\u001b[0m\u001b[0mFigure\u001b[0m\u001b[0;34m(\u001b[0m\u001b[0;34m)\u001b[0m\u001b[0;34m\u001b[0m\u001b[0;34m\u001b[0m\u001b[0m\n",
      "\u001b[0;32m~/opt/anaconda3/lib/python3.8/site-packages/pandas/core/series.py\u001b[0m in \u001b[0;36m__getitem__\u001b[0;34m(self, key)\u001b[0m\n\u001b[1;32m    851\u001b[0m \u001b[0;34m\u001b[0m\u001b[0m\n\u001b[1;32m    852\u001b[0m         \u001b[0;32melif\u001b[0m \u001b[0mkey_is_scalar\u001b[0m\u001b[0;34m:\u001b[0m\u001b[0;34m\u001b[0m\u001b[0;34m\u001b[0m\u001b[0m\n\u001b[0;32m--> 853\u001b[0;31m             \u001b[0;32mreturn\u001b[0m \u001b[0mself\u001b[0m\u001b[0;34m.\u001b[0m\u001b[0m_get_value\u001b[0m\u001b[0;34m(\u001b[0m\u001b[0mkey\u001b[0m\u001b[0;34m)\u001b[0m\u001b[0;34m\u001b[0m\u001b[0;34m\u001b[0m\u001b[0m\n\u001b[0m\u001b[1;32m    854\u001b[0m \u001b[0;34m\u001b[0m\u001b[0m\n\u001b[1;32m    855\u001b[0m         \u001b[0;32mif\u001b[0m \u001b[0mis_hashable\u001b[0m\u001b[0;34m(\u001b[0m\u001b[0mkey\u001b[0m\u001b[0;34m)\u001b[0m\u001b[0;34m:\u001b[0m\u001b[0;34m\u001b[0m\u001b[0;34m\u001b[0m\u001b[0m\n",
      "\u001b[0;32m~/opt/anaconda3/lib/python3.8/site-packages/pandas/core/series.py\u001b[0m in \u001b[0;36m_get_value\u001b[0;34m(self, label, takeable)\u001b[0m\n\u001b[1;32m    959\u001b[0m \u001b[0;34m\u001b[0m\u001b[0m\n\u001b[1;32m    960\u001b[0m         \u001b[0;31m# Similar to Index.get_value, but we do not fall back to positional\u001b[0m\u001b[0;34m\u001b[0m\u001b[0;34m\u001b[0m\u001b[0;34m\u001b[0m\u001b[0m\n\u001b[0;32m--> 961\u001b[0;31m         \u001b[0mloc\u001b[0m \u001b[0;34m=\u001b[0m \u001b[0mself\u001b[0m\u001b[0;34m.\u001b[0m\u001b[0mindex\u001b[0m\u001b[0;34m.\u001b[0m\u001b[0mget_loc\u001b[0m\u001b[0;34m(\u001b[0m\u001b[0mlabel\u001b[0m\u001b[0;34m)\u001b[0m\u001b[0;34m\u001b[0m\u001b[0;34m\u001b[0m\u001b[0m\n\u001b[0m\u001b[1;32m    962\u001b[0m         \u001b[0;32mreturn\u001b[0m \u001b[0mself\u001b[0m\u001b[0;34m.\u001b[0m\u001b[0mindex\u001b[0m\u001b[0;34m.\u001b[0m\u001b[0m_get_values_for_loc\u001b[0m\u001b[0;34m(\u001b[0m\u001b[0mself\u001b[0m\u001b[0;34m,\u001b[0m \u001b[0mloc\u001b[0m\u001b[0;34m,\u001b[0m \u001b[0mlabel\u001b[0m\u001b[0;34m)\u001b[0m\u001b[0;34m\u001b[0m\u001b[0;34m\u001b[0m\u001b[0m\n\u001b[1;32m    963\u001b[0m \u001b[0;34m\u001b[0m\u001b[0m\n",
      "\u001b[0;32m~/opt/anaconda3/lib/python3.8/site-packages/pandas/core/indexes/base.py\u001b[0m in \u001b[0;36mget_loc\u001b[0;34m(self, key, method, tolerance)\u001b[0m\n\u001b[1;32m   3080\u001b[0m                 \u001b[0;32mreturn\u001b[0m \u001b[0mself\u001b[0m\u001b[0;34m.\u001b[0m\u001b[0m_engine\u001b[0m\u001b[0;34m.\u001b[0m\u001b[0mget_loc\u001b[0m\u001b[0;34m(\u001b[0m\u001b[0mcasted_key\u001b[0m\u001b[0;34m)\u001b[0m\u001b[0;34m\u001b[0m\u001b[0;34m\u001b[0m\u001b[0m\n\u001b[1;32m   3081\u001b[0m             \u001b[0;32mexcept\u001b[0m \u001b[0mKeyError\u001b[0m \u001b[0;32mas\u001b[0m \u001b[0merr\u001b[0m\u001b[0;34m:\u001b[0m\u001b[0;34m\u001b[0m\u001b[0;34m\u001b[0m\u001b[0m\n\u001b[0;32m-> 3082\u001b[0;31m                 \u001b[0;32mraise\u001b[0m \u001b[0mKeyError\u001b[0m\u001b[0;34m(\u001b[0m\u001b[0mkey\u001b[0m\u001b[0;34m)\u001b[0m \u001b[0;32mfrom\u001b[0m \u001b[0merr\u001b[0m\u001b[0;34m\u001b[0m\u001b[0;34m\u001b[0m\u001b[0m\n\u001b[0m\u001b[1;32m   3083\u001b[0m \u001b[0;34m\u001b[0m\u001b[0m\n\u001b[1;32m   3084\u001b[0m         \u001b[0;32mif\u001b[0m \u001b[0mtolerance\u001b[0m \u001b[0;32mis\u001b[0m \u001b[0;32mnot\u001b[0m \u001b[0;32mNone\u001b[0m\u001b[0;34m:\u001b[0m\u001b[0;34m\u001b[0m\u001b[0;34m\u001b[0m\u001b[0m\n",
      "\u001b[0;31mKeyError\u001b[0m: 'end_time'"
     ]
    }
   ],
   "source": [
    "song_statistics_through_the_year(data)"
   ]
  },
  {
   "cell_type": "code",
   "execution_count": 29,
   "metadata": {},
   "outputs": [],
   "source": [
    "data = data.agg(\"mean\")"
   ]
  },
  {
   "cell_type": "code",
   "execution_count": 43,
   "metadata": {},
   "outputs": [
    {
     "data": {
      "text/plain": [
       "119.49083471259235"
      ]
     },
     "execution_count": 43,
     "metadata": {},
     "output_type": "execute_result"
    }
   ],
   "source": [
    "data[\"tempo\"]"
   ]
  },
  {
   "cell_type": "code",
   "execution_count": 100,
   "metadata": {},
   "outputs": [],
   "source": [
    "def make_radar(dataframe):\n",
    "    dataframe = normalize(dataframe, [\"tempo\", \"loudness\"])\n",
    "    dataframe = dataframe.agg(\"mean\")\n",
    "\n",
    "    #fig.add_trace\\\n",
    "    fig = go.Figure(go.Scatterpolar(\n",
    "        name = \"Your songs with highest:\",\n",
    "        r = [dataframe[\"danceability\"], dataframe[\"energy\"], dataframe[\"acousticness\"], dataframe[\"instrumentalness\"], dataframe[\"loudness\"], dataframe[\"tempo\"]],\n",
    "        theta = [\"danceability\", \"energy\", \"accousticness\", \"instrumentalness\", \"loudness\", \"tempo\"],\n",
    "        line_color=\"green\",\n",
    "        fill=\"toself\"\n",
    "    ))\n",
    "    fig.update_layout(\n",
    "        polar = dict(\n",
    "        bgcolor=\"rgb(223, 223, 223)\",\n",
    "        angularaxis = dict(\n",
    "        direction = \"clockwise\",\n",
    "        period = 6)),\n",
    "        title = {\n",
    "                \"text\":\"What are the specifics of the songs you listen to?\",\n",
    "                \"x\": 0.5,\n",
    "                \"xanchor\":\"center\",\n",
    "                \"yanchor\": \"top\"}, \n",
    "        width=1600,\n",
    "        height=800\n",
    "    )\n",
    "    return fig"
   ]
  },
  {
   "cell_type": "code",
   "execution_count": 101,
   "metadata": {},
   "outputs": [],
   "source": [
    "fig = make_radar(data)"
   ]
  },
  {
   "cell_type": "code",
   "execution_count": 102,
   "metadata": {},
   "outputs": [
    {
     "data": {
      "application/vnd.plotly.v1+json": {
       "config": {
        "plotlyServerURL": "https://plot.ly"
       },
       "data": [
        {
         "fill": "toself",
         "line": {
          "color": "green"
         },
         "name": "Your songs with highest:",
         "r": [
          0.5354985461865337,
          0.5213193920823065,
          0.41662373472377623,
          0.12040703281368777,
          0.7966068783015884,
          0.5452841157852096
         ],
         "theta": [
          "danceability",
          "energy",
          "accousticness",
          "instrumentalness",
          "loudness",
          "tempo"
         ],
         "type": "scatterpolar"
        }
       ],
       "layout": {
        "height": 800,
        "polar": {
         "angularaxis": {
          "direction": "clockwise",
          "period": 6
         },
         "bgcolor": "rgb(223, 223, 223)"
        },
        "template": {
         "data": {
          "bar": [
           {
            "error_x": {
             "color": "#2a3f5f"
            },
            "error_y": {
             "color": "#2a3f5f"
            },
            "marker": {
             "line": {
              "color": "#E5ECF6",
              "width": 0.5
             },
             "pattern": {
              "fillmode": "overlay",
              "size": 10,
              "solidity": 0.2
             }
            },
            "type": "bar"
           }
          ],
          "barpolar": [
           {
            "marker": {
             "line": {
              "color": "#E5ECF6",
              "width": 0.5
             },
             "pattern": {
              "fillmode": "overlay",
              "size": 10,
              "solidity": 0.2
             }
            },
            "type": "barpolar"
           }
          ],
          "carpet": [
           {
            "aaxis": {
             "endlinecolor": "#2a3f5f",
             "gridcolor": "white",
             "linecolor": "white",
             "minorgridcolor": "white",
             "startlinecolor": "#2a3f5f"
            },
            "baxis": {
             "endlinecolor": "#2a3f5f",
             "gridcolor": "white",
             "linecolor": "white",
             "minorgridcolor": "white",
             "startlinecolor": "#2a3f5f"
            },
            "type": "carpet"
           }
          ],
          "choropleth": [
           {
            "colorbar": {
             "outlinewidth": 0,
             "ticks": ""
            },
            "type": "choropleth"
           }
          ],
          "contour": [
           {
            "colorbar": {
             "outlinewidth": 0,
             "ticks": ""
            },
            "colorscale": [
             [
              0,
              "#0d0887"
             ],
             [
              0.1111111111111111,
              "#46039f"
             ],
             [
              0.2222222222222222,
              "#7201a8"
             ],
             [
              0.3333333333333333,
              "#9c179e"
             ],
             [
              0.4444444444444444,
              "#bd3786"
             ],
             [
              0.5555555555555556,
              "#d8576b"
             ],
             [
              0.6666666666666666,
              "#ed7953"
             ],
             [
              0.7777777777777778,
              "#fb9f3a"
             ],
             [
              0.8888888888888888,
              "#fdca26"
             ],
             [
              1,
              "#f0f921"
             ]
            ],
            "type": "contour"
           }
          ],
          "contourcarpet": [
           {
            "colorbar": {
             "outlinewidth": 0,
             "ticks": ""
            },
            "type": "contourcarpet"
           }
          ],
          "heatmap": [
           {
            "colorbar": {
             "outlinewidth": 0,
             "ticks": ""
            },
            "colorscale": [
             [
              0,
              "#0d0887"
             ],
             [
              0.1111111111111111,
              "#46039f"
             ],
             [
              0.2222222222222222,
              "#7201a8"
             ],
             [
              0.3333333333333333,
              "#9c179e"
             ],
             [
              0.4444444444444444,
              "#bd3786"
             ],
             [
              0.5555555555555556,
              "#d8576b"
             ],
             [
              0.6666666666666666,
              "#ed7953"
             ],
             [
              0.7777777777777778,
              "#fb9f3a"
             ],
             [
              0.8888888888888888,
              "#fdca26"
             ],
             [
              1,
              "#f0f921"
             ]
            ],
            "type": "heatmap"
           }
          ],
          "heatmapgl": [
           {
            "colorbar": {
             "outlinewidth": 0,
             "ticks": ""
            },
            "colorscale": [
             [
              0,
              "#0d0887"
             ],
             [
              0.1111111111111111,
              "#46039f"
             ],
             [
              0.2222222222222222,
              "#7201a8"
             ],
             [
              0.3333333333333333,
              "#9c179e"
             ],
             [
              0.4444444444444444,
              "#bd3786"
             ],
             [
              0.5555555555555556,
              "#d8576b"
             ],
             [
              0.6666666666666666,
              "#ed7953"
             ],
             [
              0.7777777777777778,
              "#fb9f3a"
             ],
             [
              0.8888888888888888,
              "#fdca26"
             ],
             [
              1,
              "#f0f921"
             ]
            ],
            "type": "heatmapgl"
           }
          ],
          "histogram": [
           {
            "marker": {
             "pattern": {
              "fillmode": "overlay",
              "size": 10,
              "solidity": 0.2
             }
            },
            "type": "histogram"
           }
          ],
          "histogram2d": [
           {
            "colorbar": {
             "outlinewidth": 0,
             "ticks": ""
            },
            "colorscale": [
             [
              0,
              "#0d0887"
             ],
             [
              0.1111111111111111,
              "#46039f"
             ],
             [
              0.2222222222222222,
              "#7201a8"
             ],
             [
              0.3333333333333333,
              "#9c179e"
             ],
             [
              0.4444444444444444,
              "#bd3786"
             ],
             [
              0.5555555555555556,
              "#d8576b"
             ],
             [
              0.6666666666666666,
              "#ed7953"
             ],
             [
              0.7777777777777778,
              "#fb9f3a"
             ],
             [
              0.8888888888888888,
              "#fdca26"
             ],
             [
              1,
              "#f0f921"
             ]
            ],
            "type": "histogram2d"
           }
          ],
          "histogram2dcontour": [
           {
            "colorbar": {
             "outlinewidth": 0,
             "ticks": ""
            },
            "colorscale": [
             [
              0,
              "#0d0887"
             ],
             [
              0.1111111111111111,
              "#46039f"
             ],
             [
              0.2222222222222222,
              "#7201a8"
             ],
             [
              0.3333333333333333,
              "#9c179e"
             ],
             [
              0.4444444444444444,
              "#bd3786"
             ],
             [
              0.5555555555555556,
              "#d8576b"
             ],
             [
              0.6666666666666666,
              "#ed7953"
             ],
             [
              0.7777777777777778,
              "#fb9f3a"
             ],
             [
              0.8888888888888888,
              "#fdca26"
             ],
             [
              1,
              "#f0f921"
             ]
            ],
            "type": "histogram2dcontour"
           }
          ],
          "mesh3d": [
           {
            "colorbar": {
             "outlinewidth": 0,
             "ticks": ""
            },
            "type": "mesh3d"
           }
          ],
          "parcoords": [
           {
            "line": {
             "colorbar": {
              "outlinewidth": 0,
              "ticks": ""
             }
            },
            "type": "parcoords"
           }
          ],
          "pie": [
           {
            "automargin": true,
            "type": "pie"
           }
          ],
          "scatter": [
           {
            "fillpattern": {
             "fillmode": "overlay",
             "size": 10,
             "solidity": 0.2
            },
            "type": "scatter"
           }
          ],
          "scatter3d": [
           {
            "line": {
             "colorbar": {
              "outlinewidth": 0,
              "ticks": ""
             }
            },
            "marker": {
             "colorbar": {
              "outlinewidth": 0,
              "ticks": ""
             }
            },
            "type": "scatter3d"
           }
          ],
          "scattercarpet": [
           {
            "marker": {
             "colorbar": {
              "outlinewidth": 0,
              "ticks": ""
             }
            },
            "type": "scattercarpet"
           }
          ],
          "scattergeo": [
           {
            "marker": {
             "colorbar": {
              "outlinewidth": 0,
              "ticks": ""
             }
            },
            "type": "scattergeo"
           }
          ],
          "scattergl": [
           {
            "marker": {
             "colorbar": {
              "outlinewidth": 0,
              "ticks": ""
             }
            },
            "type": "scattergl"
           }
          ],
          "scattermapbox": [
           {
            "marker": {
             "colorbar": {
              "outlinewidth": 0,
              "ticks": ""
             }
            },
            "type": "scattermapbox"
           }
          ],
          "scatterpolar": [
           {
            "marker": {
             "colorbar": {
              "outlinewidth": 0,
              "ticks": ""
             }
            },
            "type": "scatterpolar"
           }
          ],
          "scatterpolargl": [
           {
            "marker": {
             "colorbar": {
              "outlinewidth": 0,
              "ticks": ""
             }
            },
            "type": "scatterpolargl"
           }
          ],
          "scatterternary": [
           {
            "marker": {
             "colorbar": {
              "outlinewidth": 0,
              "ticks": ""
             }
            },
            "type": "scatterternary"
           }
          ],
          "surface": [
           {
            "colorbar": {
             "outlinewidth": 0,
             "ticks": ""
            },
            "colorscale": [
             [
              0,
              "#0d0887"
             ],
             [
              0.1111111111111111,
              "#46039f"
             ],
             [
              0.2222222222222222,
              "#7201a8"
             ],
             [
              0.3333333333333333,
              "#9c179e"
             ],
             [
              0.4444444444444444,
              "#bd3786"
             ],
             [
              0.5555555555555556,
              "#d8576b"
             ],
             [
              0.6666666666666666,
              "#ed7953"
             ],
             [
              0.7777777777777778,
              "#fb9f3a"
             ],
             [
              0.8888888888888888,
              "#fdca26"
             ],
             [
              1,
              "#f0f921"
             ]
            ],
            "type": "surface"
           }
          ],
          "table": [
           {
            "cells": {
             "fill": {
              "color": "#EBF0F8"
             },
             "line": {
              "color": "white"
             }
            },
            "header": {
             "fill": {
              "color": "#C8D4E3"
             },
             "line": {
              "color": "white"
             }
            },
            "type": "table"
           }
          ]
         },
         "layout": {
          "annotationdefaults": {
           "arrowcolor": "#2a3f5f",
           "arrowhead": 0,
           "arrowwidth": 1
          },
          "autotypenumbers": "strict",
          "coloraxis": {
           "colorbar": {
            "outlinewidth": 0,
            "ticks": ""
           }
          },
          "colorscale": {
           "diverging": [
            [
             0,
             "#8e0152"
            ],
            [
             0.1,
             "#c51b7d"
            ],
            [
             0.2,
             "#de77ae"
            ],
            [
             0.3,
             "#f1b6da"
            ],
            [
             0.4,
             "#fde0ef"
            ],
            [
             0.5,
             "#f7f7f7"
            ],
            [
             0.6,
             "#e6f5d0"
            ],
            [
             0.7,
             "#b8e186"
            ],
            [
             0.8,
             "#7fbc41"
            ],
            [
             0.9,
             "#4d9221"
            ],
            [
             1,
             "#276419"
            ]
           ],
           "sequential": [
            [
             0,
             "#0d0887"
            ],
            [
             0.1111111111111111,
             "#46039f"
            ],
            [
             0.2222222222222222,
             "#7201a8"
            ],
            [
             0.3333333333333333,
             "#9c179e"
            ],
            [
             0.4444444444444444,
             "#bd3786"
            ],
            [
             0.5555555555555556,
             "#d8576b"
            ],
            [
             0.6666666666666666,
             "#ed7953"
            ],
            [
             0.7777777777777778,
             "#fb9f3a"
            ],
            [
             0.8888888888888888,
             "#fdca26"
            ],
            [
             1,
             "#f0f921"
            ]
           ],
           "sequentialminus": [
            [
             0,
             "#0d0887"
            ],
            [
             0.1111111111111111,
             "#46039f"
            ],
            [
             0.2222222222222222,
             "#7201a8"
            ],
            [
             0.3333333333333333,
             "#9c179e"
            ],
            [
             0.4444444444444444,
             "#bd3786"
            ],
            [
             0.5555555555555556,
             "#d8576b"
            ],
            [
             0.6666666666666666,
             "#ed7953"
            ],
            [
             0.7777777777777778,
             "#fb9f3a"
            ],
            [
             0.8888888888888888,
             "#fdca26"
            ],
            [
             1,
             "#f0f921"
            ]
           ]
          },
          "colorway": [
           "#636efa",
           "#EF553B",
           "#00cc96",
           "#ab63fa",
           "#FFA15A",
           "#19d3f3",
           "#FF6692",
           "#B6E880",
           "#FF97FF",
           "#FECB52"
          ],
          "font": {
           "color": "#2a3f5f"
          },
          "geo": {
           "bgcolor": "white",
           "lakecolor": "white",
           "landcolor": "#E5ECF6",
           "showlakes": true,
           "showland": true,
           "subunitcolor": "white"
          },
          "hoverlabel": {
           "align": "left"
          },
          "hovermode": "closest",
          "mapbox": {
           "style": "light"
          },
          "paper_bgcolor": "white",
          "plot_bgcolor": "#E5ECF6",
          "polar": {
           "angularaxis": {
            "gridcolor": "white",
            "linecolor": "white",
            "ticks": ""
           },
           "bgcolor": "#E5ECF6",
           "radialaxis": {
            "gridcolor": "white",
            "linecolor": "white",
            "ticks": ""
           }
          },
          "scene": {
           "xaxis": {
            "backgroundcolor": "#E5ECF6",
            "gridcolor": "white",
            "gridwidth": 2,
            "linecolor": "white",
            "showbackground": true,
            "ticks": "",
            "zerolinecolor": "white"
           },
           "yaxis": {
            "backgroundcolor": "#E5ECF6",
            "gridcolor": "white",
            "gridwidth": 2,
            "linecolor": "white",
            "showbackground": true,
            "ticks": "",
            "zerolinecolor": "white"
           },
           "zaxis": {
            "backgroundcolor": "#E5ECF6",
            "gridcolor": "white",
            "gridwidth": 2,
            "linecolor": "white",
            "showbackground": true,
            "ticks": "",
            "zerolinecolor": "white"
           }
          },
          "shapedefaults": {
           "line": {
            "color": "#2a3f5f"
           }
          },
          "ternary": {
           "aaxis": {
            "gridcolor": "white",
            "linecolor": "white",
            "ticks": ""
           },
           "baxis": {
            "gridcolor": "white",
            "linecolor": "white",
            "ticks": ""
           },
           "bgcolor": "#E5ECF6",
           "caxis": {
            "gridcolor": "white",
            "linecolor": "white",
            "ticks": ""
           }
          },
          "title": {
           "x": 0.05
          },
          "xaxis": {
           "automargin": true,
           "gridcolor": "white",
           "linecolor": "white",
           "ticks": "",
           "title": {
            "standoff": 15
           },
           "zerolinecolor": "white",
           "zerolinewidth": 2
          },
          "yaxis": {
           "automargin": true,
           "gridcolor": "white",
           "linecolor": "white",
           "ticks": "",
           "title": {
            "standoff": 15
           },
           "zerolinecolor": "white",
           "zerolinewidth": 2
          }
         }
        },
        "title": {
         "text": "What are the specifics of the songs you listen to?",
         "x": 0.5,
         "xanchor": "center",
         "yanchor": "top"
        },
        "width": 1600
       }
      }
     },
     "metadata": {},
     "output_type": "display_data"
    }
   ],
   "source": [
    "fig.show()"
   ]
  },
  {
   "cell_type": "code",
   "execution_count": 7,
   "metadata": {},
   "outputs": [],
   "source": [
    "data = get_song_stats_by_date_with_names(user_id, cursor)"
   ]
  },
  {
   "cell_type": "code",
   "execution_count": 8,
   "metadata": {},
   "outputs": [
    {
     "data": {
      "text/html": [
       "<div>\n",
       "<style scoped>\n",
       "    .dataframe tbody tr th:only-of-type {\n",
       "        vertical-align: middle;\n",
       "    }\n",
       "\n",
       "    .dataframe tbody tr th {\n",
       "        vertical-align: top;\n",
       "    }\n",
       "\n",
       "    .dataframe thead th {\n",
       "        text-align: right;\n",
       "    }\n",
       "</style>\n",
       "<table border=\"1\" class=\"dataframe\">\n",
       "  <thead>\n",
       "    <tr style=\"text-align: right;\">\n",
       "      <th></th>\n",
       "      <th>artist_name</th>\n",
       "      <th>song_name</th>\n",
       "      <th>danceability</th>\n",
       "      <th>energy</th>\n",
       "      <th>tempo</th>\n",
       "      <th>acousticness</th>\n",
       "      <th>loudness</th>\n",
       "      <th>instrumentalness</th>\n",
       "      <th>end_time</th>\n",
       "    </tr>\n",
       "  </thead>\n",
       "  <tbody>\n",
       "    <tr>\n",
       "      <th>0</th>\n",
       "      <td>Męskie Granie Orkiestra</td>\n",
       "      <td>Elektryczny</td>\n",
       "      <td>0.652</td>\n",
       "      <td>0.816</td>\n",
       "      <td>139.931</td>\n",
       "      <td>0.19700</td>\n",
       "      <td>-4.299</td>\n",
       "      <td>0.000036</td>\n",
       "      <td>2022-01-01 01:52</td>\n",
       "    </tr>\n",
       "    <tr>\n",
       "      <th>1</th>\n",
       "      <td>Muniek Staszczyk</td>\n",
       "      <td>Pola</td>\n",
       "      <td>0.600</td>\n",
       "      <td>0.732</td>\n",
       "      <td>170.024</td>\n",
       "      <td>0.00924</td>\n",
       "      <td>-7.472</td>\n",
       "      <td>0.000005</td>\n",
       "      <td>2022-01-01 20:59</td>\n",
       "    </tr>\n",
       "    <tr>\n",
       "      <th>2</th>\n",
       "      <td>Lorde</td>\n",
       "      <td>Stoned at the Nail Salon</td>\n",
       "      <td>0.473</td>\n",
       "      <td>0.128</td>\n",
       "      <td>93.950</td>\n",
       "      <td>0.94800</td>\n",
       "      <td>-12.303</td>\n",
       "      <td>0.000054</td>\n",
       "      <td>2022-01-01 20:59</td>\n",
       "    </tr>\n",
       "    <tr>\n",
       "      <th>3</th>\n",
       "      <td>Kings of Leon</td>\n",
       "      <td>Pyro</td>\n",
       "      <td>0.365</td>\n",
       "      <td>0.606</td>\n",
       "      <td>114.995</td>\n",
       "      <td>0.00757</td>\n",
       "      <td>-7.174</td>\n",
       "      <td>0.052000</td>\n",
       "      <td>2022-01-01 21:03</td>\n",
       "    </tr>\n",
       "    <tr>\n",
       "      <th>4</th>\n",
       "      <td>Imagine Dragons</td>\n",
       "      <td>I’m So Sorry</td>\n",
       "      <td>0.528</td>\n",
       "      <td>0.687</td>\n",
       "      <td>142.605</td>\n",
       "      <td>0.14400</td>\n",
       "      <td>-5.954</td>\n",
       "      <td>0.000000</td>\n",
       "      <td>2022-01-01 21:07</td>\n",
       "    </tr>\n",
       "  </tbody>\n",
       "</table>\n",
       "</div>"
      ],
      "text/plain": [
       "               artist_name                 song_name  danceability  energy  \\\n",
       "0  Męskie Granie Orkiestra               Elektryczny         0.652   0.816   \n",
       "1         Muniek Staszczyk                      Pola         0.600   0.732   \n",
       "2                    Lorde  Stoned at the Nail Salon         0.473   0.128   \n",
       "3            Kings of Leon                      Pyro         0.365   0.606   \n",
       "4          Imagine Dragons              I’m So Sorry         0.528   0.687   \n",
       "\n",
       "     tempo  acousticness  loudness  instrumentalness          end_time  \n",
       "0  139.931       0.19700    -4.299          0.000036  2022-01-01 01:52  \n",
       "1  170.024       0.00924    -7.472          0.000005  2022-01-01 20:59  \n",
       "2   93.950       0.94800   -12.303          0.000054  2022-01-01 20:59  \n",
       "3  114.995       0.00757    -7.174          0.052000  2022-01-01 21:03  \n",
       "4  142.605       0.14400    -5.954          0.000000  2022-01-01 21:07  "
      ]
     },
     "execution_count": 8,
     "metadata": {},
     "output_type": "execute_result"
    }
   ],
   "source": [
    "data.head()"
   ]
  },
  {
   "cell_type": "code",
   "execution_count": 15,
   "metadata": {},
   "outputs": [],
   "source": [
    "max_danceability = data[data[\"danceability\"] == np.max(data[\"danceability\"])].iloc[0]\n",
    "max_energy = data[data[\"energy\"] == np.max(data[\"energy\"])].iloc[0]\n",
    "max_tempo = data[data[\"tempo\"] == np.max(data[\"tempo\"])].iloc[0]\n",
    "max_loudness = data[data[\"loudness\"] == np.max(data[\"loudness\"])].iloc[0]\n",
    "max_instrumental = data[data[\"instrumentalness\"] == np.max(data[\"instrumentalness\"])].iloc[0]\n",
    "max_acoustic = data[data[\"acousticness\"] == np.max(data[\"acousticness\"])].iloc[0]"
   ]
  },
  {
   "cell_type": "code",
   "execution_count": 21,
   "metadata": {},
   "outputs": [
    {
     "data": {
      "text/html": [
       "<div>\n",
       "<style scoped>\n",
       "    .dataframe tbody tr th:only-of-type {\n",
       "        vertical-align: middle;\n",
       "    }\n",
       "\n",
       "    .dataframe tbody tr th {\n",
       "        vertical-align: top;\n",
       "    }\n",
       "\n",
       "    .dataframe thead th {\n",
       "        text-align: right;\n",
       "    }\n",
       "</style>\n",
       "<table border=\"1\" class=\"dataframe\">\n",
       "  <thead>\n",
       "    <tr style=\"text-align: right;\">\n",
       "      <th></th>\n",
       "      <th>artist_name</th>\n",
       "      <th>song_name</th>\n",
       "      <th>danceability</th>\n",
       "      <th>energy</th>\n",
       "      <th>tempo</th>\n",
       "      <th>acousticness</th>\n",
       "      <th>loudness</th>\n",
       "      <th>instrumentalness</th>\n",
       "      <th>end_time</th>\n",
       "    </tr>\n",
       "  </thead>\n",
       "  <tbody>\n",
       "    <tr>\n",
       "      <th>3632</th>\n",
       "      <td>Theodore Shapiro</td>\n",
       "      <td>Problems with Women</td>\n",
       "      <td>0.970</td>\n",
       "      <td>0.1700</td>\n",
       "      <td>116.021</td>\n",
       "      <td>0.6480</td>\n",
       "      <td>-16.974</td>\n",
       "      <td>0.8650</td>\n",
       "      <td>2022-09-03 12:41</td>\n",
       "    </tr>\n",
       "    <tr>\n",
       "      <th>1896</th>\n",
       "      <td>Foster The People</td>\n",
       "      <td>Miss You</td>\n",
       "      <td>0.625</td>\n",
       "      <td>0.9950</td>\n",
       "      <td>120.991</td>\n",
       "      <td>0.0219</td>\n",
       "      <td>-3.950</td>\n",
       "      <td>0.0307</td>\n",
       "      <td>2022-03-25 15:43</td>\n",
       "    </tr>\n",
       "    <tr>\n",
       "      <th>4455</th>\n",
       "      <td>Beach House</td>\n",
       "      <td>Lazuli</td>\n",
       "      <td>0.341</td>\n",
       "      <td>0.8100</td>\n",
       "      <td>219.135</td>\n",
       "      <td>0.0105</td>\n",
       "      <td>-5.790</td>\n",
       "      <td>0.6290</td>\n",
       "      <td>2022-12-06 18:04</td>\n",
       "    </tr>\n",
       "    <tr>\n",
       "      <th>2277</th>\n",
       "      <td>Amyl and The Sniffers</td>\n",
       "      <td>No More Tears</td>\n",
       "      <td>0.224</td>\n",
       "      <td>0.9820</td>\n",
       "      <td>174.533</td>\n",
       "      <td>0.0909</td>\n",
       "      <td>-0.933</td>\n",
       "      <td>0.0000</td>\n",
       "      <td>2022-04-06 09:47</td>\n",
       "    </tr>\n",
       "    <tr>\n",
       "      <th>3432</th>\n",
       "      <td>Nina Nastasia</td>\n",
       "      <td>Creek and Chimes</td>\n",
       "      <td>0.180</td>\n",
       "      <td>0.3180</td>\n",
       "      <td>107.366</td>\n",
       "      <td>0.7400</td>\n",
       "      <td>-38.366</td>\n",
       "      <td>0.9990</td>\n",
       "      <td>2022-08-15 20:09</td>\n",
       "    </tr>\n",
       "    <tr>\n",
       "      <th>3446</th>\n",
       "      <td>Florist</td>\n",
       "      <td>Variation</td>\n",
       "      <td>0.319</td>\n",
       "      <td>0.0254</td>\n",
       "      <td>70.890</td>\n",
       "      <td>0.9960</td>\n",
       "      <td>-23.477</td>\n",
       "      <td>0.0262</td>\n",
       "      <td>2022-08-15 20:58</td>\n",
       "    </tr>\n",
       "  </tbody>\n",
       "</table>\n",
       "</div>"
      ],
      "text/plain": [
       "                artist_name            song_name  danceability  energy  \\\n",
       "3632       Theodore Shapiro  Problems with Women         0.970  0.1700   \n",
       "1896      Foster The People             Miss You         0.625  0.9950   \n",
       "4455            Beach House               Lazuli         0.341  0.8100   \n",
       "2277  Amyl and The Sniffers        No More Tears         0.224  0.9820   \n",
       "3432          Nina Nastasia     Creek and Chimes         0.180  0.3180   \n",
       "3446                Florist            Variation         0.319  0.0254   \n",
       "\n",
       "        tempo  acousticness  loudness  instrumentalness          end_time  \n",
       "3632  116.021        0.6480   -16.974            0.8650  2022-09-03 12:41  \n",
       "1896  120.991        0.0219    -3.950            0.0307  2022-03-25 15:43  \n",
       "4455  219.135        0.0105    -5.790            0.6290  2022-12-06 18:04  \n",
       "2277  174.533        0.0909    -0.933            0.0000  2022-04-06 09:47  \n",
       "3432  107.366        0.7400   -38.366            0.9990  2022-08-15 20:09  \n",
       "3446   70.890        0.9960   -23.477            0.0262  2022-08-15 20:58  "
      ]
     },
     "execution_count": 21,
     "metadata": {},
     "output_type": "execute_result"
    }
   ],
   "source": [
    "maxes_df = pd.DataFrame([max_danceability, max_energy, max_tempo, max_loudness, max_instrumental, max_acoustic], columns = [\"artist_name\", \"song_name\", \"danceability\", \"energy\", \"tempo\", \"acousticness\", \"loudness\", \"instrumentalness\", \"end_time\"])"
   ]
  }
 ],
 "metadata": {
  "kernelspec": {
   "display_name": "base",
   "language": "python",
   "name": "python3"
  },
  "language_info": {
   "codemirror_mode": {
    "name": "ipython",
    "version": 3
   },
   "file_extension": ".py",
   "mimetype": "text/x-python",
   "name": "python",
   "nbconvert_exporter": "python",
   "pygments_lexer": "ipython3",
   "version": "3.8.8"
  },
  "orig_nbformat": 4,
  "vscode": {
   "interpreter": {
    "hash": "f640a9078f8e092032cb0185e0c2b2c1ad2376cf3b94da3c4476fa7bf4b3609c"
   }
  }
 },
 "nbformat": 4,
 "nbformat_minor": 2
}
